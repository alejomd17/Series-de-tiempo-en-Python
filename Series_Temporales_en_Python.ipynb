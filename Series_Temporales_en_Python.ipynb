{
  "nbformat": 4,
  "nbformat_minor": 0,
  "metadata": {
    "colab": {
      "name": "Series Temporales en Python",
      "provenance": [],
      "collapsed_sections": [],
      "mount_file_id": "1Bk8t40C_tV2AzZdAphQshGPpDg7Y6tAU",
      "authorship_tag": "ABX9TyOIRfAATVXNsTSTBHzxM8or",
      "include_colab_link": true
    },
    "kernelspec": {
      "name": "python3",
      "display_name": "Python 3"
    },
    "language_info": {
      "name": "python"
    }
  },
  "cells": [
    {
      "cell_type": "markdown",
      "metadata": {
        "id": "view-in-github",
        "colab_type": "text"
      },
      "source": [
        "<a href=\"https://colab.research.google.com/github/alejomd17/Series-de-tiempo-en-Python/blob/main/Series_Temporales_en_Python.ipynb\" target=\"_parent\"><img src=\"https://colab.research.google.com/assets/colab-badge.svg\" alt=\"Open In Colab\"/></a>"
      ]
    },
    {
      "cell_type": "markdown",
      "metadata": {
        "id": "hU40J32AUFUo"
      },
      "source": [
        "# Librerías"
      ]
    },
    {
      "cell_type": "code",
      "metadata": {
        "id": "Sy8xVhAySpfl"
      },
      "source": [
        "import numpy as np\n",
        "import pandas as pd\n",
        "import matplotlib.pyplot as plt\n",
        "from sklearn.linear_model import LinearRegression\n",
        "from statsmodels.tsa.arima_model import ARIMA\n",
        "import statsmodels.api as sm\n",
        "\n",
        "%matplotlib inline"
      ],
      "execution_count": 55,
      "outputs": []
    },
    {
      "cell_type": "markdown",
      "metadata": {
        "id": "rslfYX0AUKGK"
      },
      "source": [
        "# Datos"
      ]
    },
    {
      "cell_type": "code",
      "metadata": {
        "id": "UBohWNAqUK-m"
      },
      "source": [
        "df = pd.read_excel('Datos.xlsx')"
      ],
      "execution_count": 19,
      "outputs": []
    },
    {
      "cell_type": "code",
      "metadata": {
        "colab": {
          "base_uri": "https://localhost:8080/",
          "height": 204
        },
        "id": "DycilwAUUTC2",
        "outputId": "4fd7c67a-d1b8-4f78-880a-f6db28677438"
      },
      "source": [
        "df.head(5)"
      ],
      "execution_count": 20,
      "outputs": [
        {
          "output_type": "execute_result",
          "data": {
            "text/html": [
              "<div>\n",
              "<style scoped>\n",
              "    .dataframe tbody tr th:only-of-type {\n",
              "        vertical-align: middle;\n",
              "    }\n",
              "\n",
              "    .dataframe tbody tr th {\n",
              "        vertical-align: top;\n",
              "    }\n",
              "\n",
              "    .dataframe thead th {\n",
              "        text-align: right;\n",
              "    }\n",
              "</style>\n",
              "<table border=\"1\" class=\"dataframe\">\n",
              "  <thead>\n",
              "    <tr style=\"text-align: right;\">\n",
              "      <th></th>\n",
              "      <th>year</th>\n",
              "      <th>unem</th>\n",
              "      <th>inf</th>\n",
              "      <th>unem_1</th>\n",
              "      <th>inf_1</th>\n",
              "      <th>unem_2</th>\n",
              "      <th>inf_2</th>\n",
              "      <th>cunem</th>\n",
              "      <th>cinf</th>\n",
              "      <th>cunem_1</th>\n",
              "      <th>cinf_1</th>\n",
              "      <th>u</th>\n",
              "      <th>time</th>\n",
              "    </tr>\n",
              "  </thead>\n",
              "  <tbody>\n",
              "    <tr>\n",
              "      <th>0</th>\n",
              "      <td>1948</td>\n",
              "      <td>3.8</td>\n",
              "      <td>8.1</td>\n",
              "      <td>NaN</td>\n",
              "      <td>NaN</td>\n",
              "      <td>NaN</td>\n",
              "      <td>NaN</td>\n",
              "      <td>NaN</td>\n",
              "      <td>NaN</td>\n",
              "      <td>NaN</td>\n",
              "      <td>NaN</td>\n",
              "      <td>0.038</td>\n",
              "      <td>1</td>\n",
              "    </tr>\n",
              "    <tr>\n",
              "      <th>1</th>\n",
              "      <td>1949</td>\n",
              "      <td>5.9</td>\n",
              "      <td>-1.2</td>\n",
              "      <td>3.8</td>\n",
              "      <td>8.1</td>\n",
              "      <td>NaN</td>\n",
              "      <td>NaN</td>\n",
              "      <td>2.1</td>\n",
              "      <td>-9.3</td>\n",
              "      <td>NaN</td>\n",
              "      <td>NaN</td>\n",
              "      <td>0.059</td>\n",
              "      <td>2</td>\n",
              "    </tr>\n",
              "    <tr>\n",
              "      <th>2</th>\n",
              "      <td>1950</td>\n",
              "      <td>5.3</td>\n",
              "      <td>1.3</td>\n",
              "      <td>5.9</td>\n",
              "      <td>-1.2</td>\n",
              "      <td>3.8</td>\n",
              "      <td>8.1</td>\n",
              "      <td>-0.6</td>\n",
              "      <td>2.5</td>\n",
              "      <td>2.1</td>\n",
              "      <td>-9.3</td>\n",
              "      <td>0.053</td>\n",
              "      <td>3</td>\n",
              "    </tr>\n",
              "    <tr>\n",
              "      <th>3</th>\n",
              "      <td>1951</td>\n",
              "      <td>3.3</td>\n",
              "      <td>7.9</td>\n",
              "      <td>5.3</td>\n",
              "      <td>1.3</td>\n",
              "      <td>5.9</td>\n",
              "      <td>-1.2</td>\n",
              "      <td>-2.0</td>\n",
              "      <td>6.6</td>\n",
              "      <td>-0.6</td>\n",
              "      <td>2.5</td>\n",
              "      <td>0.033</td>\n",
              "      <td>4</td>\n",
              "    </tr>\n",
              "    <tr>\n",
              "      <th>4</th>\n",
              "      <td>1952</td>\n",
              "      <td>3.0</td>\n",
              "      <td>1.9</td>\n",
              "      <td>3.3</td>\n",
              "      <td>7.9</td>\n",
              "      <td>5.3</td>\n",
              "      <td>1.3</td>\n",
              "      <td>-0.3</td>\n",
              "      <td>-6.0</td>\n",
              "      <td>-2.0</td>\n",
              "      <td>6.6</td>\n",
              "      <td>0.030</td>\n",
              "      <td>5</td>\n",
              "    </tr>\n",
              "  </tbody>\n",
              "</table>\n",
              "</div>"
            ],
            "text/plain": [
              "   year  unem  inf  unem_1  inf_1  ...  cinf  cunem_1  cinf_1      u  time\n",
              "0  1948   3.8  8.1     NaN    NaN  ...   NaN      NaN     NaN  0.038     1\n",
              "1  1949   5.9 -1.2     3.8    8.1  ...  -9.3      NaN     NaN  0.059     2\n",
              "2  1950   5.3  1.3     5.9   -1.2  ...   2.5      2.1    -9.3  0.053     3\n",
              "3  1951   3.3  7.9     5.3    1.3  ...   6.6     -0.6     2.5  0.033     4\n",
              "4  1952   3.0  1.9     3.3    7.9  ...  -6.0     -2.0     6.6  0.030     5\n",
              "\n",
              "[5 rows x 13 columns]"
            ]
          },
          "metadata": {},
          "execution_count": 20
        }
      ]
    },
    {
      "cell_type": "markdown",
      "metadata": {
        "id": "Hceicy-7UXrt"
      },
      "source": [
        "# Elegir las variables de interés"
      ]
    },
    {
      "cell_type": "code",
      "metadata": {
        "id": "7NIBB2s6Ua5U"
      },
      "source": [
        "df_inf = pd.DataFrame(df[['year','inf']])"
      ],
      "execution_count": 114,
      "outputs": []
    },
    {
      "cell_type": "code",
      "metadata": {
        "colab": {
          "base_uri": "https://localhost:8080/",
          "height": 1000
        },
        "id": "OoJ8j6-KZFqm",
        "outputId": "fe5167ff-f91f-4253-a8ee-6dc2e65a5c44"
      },
      "source": [
        "df_inf"
      ],
      "execution_count": 33,
      "outputs": [
        {
          "output_type": "execute_result",
          "data": {
            "text/html": [
              "<div>\n",
              "<style scoped>\n",
              "    .dataframe tbody tr th:only-of-type {\n",
              "        vertical-align: middle;\n",
              "    }\n",
              "\n",
              "    .dataframe tbody tr th {\n",
              "        vertical-align: top;\n",
              "    }\n",
              "\n",
              "    .dataframe thead th {\n",
              "        text-align: right;\n",
              "    }\n",
              "</style>\n",
              "<table border=\"1\" class=\"dataframe\">\n",
              "  <thead>\n",
              "    <tr style=\"text-align: right;\">\n",
              "      <th></th>\n",
              "      <th>year</th>\n",
              "      <th>inf</th>\n",
              "    </tr>\n",
              "  </thead>\n",
              "  <tbody>\n",
              "    <tr>\n",
              "      <th>0</th>\n",
              "      <td>1948</td>\n",
              "      <td>8.1</td>\n",
              "    </tr>\n",
              "    <tr>\n",
              "      <th>1</th>\n",
              "      <td>1949</td>\n",
              "      <td>-1.2</td>\n",
              "    </tr>\n",
              "    <tr>\n",
              "      <th>2</th>\n",
              "      <td>1950</td>\n",
              "      <td>1.3</td>\n",
              "    </tr>\n",
              "    <tr>\n",
              "      <th>3</th>\n",
              "      <td>1951</td>\n",
              "      <td>7.9</td>\n",
              "    </tr>\n",
              "    <tr>\n",
              "      <th>4</th>\n",
              "      <td>1952</td>\n",
              "      <td>1.9</td>\n",
              "    </tr>\n",
              "    <tr>\n",
              "      <th>5</th>\n",
              "      <td>1953</td>\n",
              "      <td>0.8</td>\n",
              "    </tr>\n",
              "    <tr>\n",
              "      <th>6</th>\n",
              "      <td>1954</td>\n",
              "      <td>0.7</td>\n",
              "    </tr>\n",
              "    <tr>\n",
              "      <th>7</th>\n",
              "      <td>1955</td>\n",
              "      <td>-0.4</td>\n",
              "    </tr>\n",
              "    <tr>\n",
              "      <th>8</th>\n",
              "      <td>1956</td>\n",
              "      <td>1.5</td>\n",
              "    </tr>\n",
              "    <tr>\n",
              "      <th>9</th>\n",
              "      <td>1957</td>\n",
              "      <td>3.3</td>\n",
              "    </tr>\n",
              "    <tr>\n",
              "      <th>10</th>\n",
              "      <td>1958</td>\n",
              "      <td>2.8</td>\n",
              "    </tr>\n",
              "    <tr>\n",
              "      <th>11</th>\n",
              "      <td>1959</td>\n",
              "      <td>0.7</td>\n",
              "    </tr>\n",
              "    <tr>\n",
              "      <th>12</th>\n",
              "      <td>1960</td>\n",
              "      <td>1.7</td>\n",
              "    </tr>\n",
              "    <tr>\n",
              "      <th>13</th>\n",
              "      <td>1961</td>\n",
              "      <td>1.0</td>\n",
              "    </tr>\n",
              "    <tr>\n",
              "      <th>14</th>\n",
              "      <td>1962</td>\n",
              "      <td>1.0</td>\n",
              "    </tr>\n",
              "    <tr>\n",
              "      <th>15</th>\n",
              "      <td>1963</td>\n",
              "      <td>1.3</td>\n",
              "    </tr>\n",
              "    <tr>\n",
              "      <th>16</th>\n",
              "      <td>1964</td>\n",
              "      <td>1.3</td>\n",
              "    </tr>\n",
              "    <tr>\n",
              "      <th>17</th>\n",
              "      <td>1965</td>\n",
              "      <td>1.6</td>\n",
              "    </tr>\n",
              "    <tr>\n",
              "      <th>18</th>\n",
              "      <td>1966</td>\n",
              "      <td>2.9</td>\n",
              "    </tr>\n",
              "    <tr>\n",
              "      <th>19</th>\n",
              "      <td>1967</td>\n",
              "      <td>3.1</td>\n",
              "    </tr>\n",
              "    <tr>\n",
              "      <th>20</th>\n",
              "      <td>1968</td>\n",
              "      <td>4.2</td>\n",
              "    </tr>\n",
              "    <tr>\n",
              "      <th>21</th>\n",
              "      <td>1969</td>\n",
              "      <td>5.5</td>\n",
              "    </tr>\n",
              "    <tr>\n",
              "      <th>22</th>\n",
              "      <td>1970</td>\n",
              "      <td>5.7</td>\n",
              "    </tr>\n",
              "    <tr>\n",
              "      <th>23</th>\n",
              "      <td>1971</td>\n",
              "      <td>4.4</td>\n",
              "    </tr>\n",
              "    <tr>\n",
              "      <th>24</th>\n",
              "      <td>1972</td>\n",
              "      <td>3.2</td>\n",
              "    </tr>\n",
              "    <tr>\n",
              "      <th>25</th>\n",
              "      <td>1973</td>\n",
              "      <td>6.2</td>\n",
              "    </tr>\n",
              "    <tr>\n",
              "      <th>26</th>\n",
              "      <td>1974</td>\n",
              "      <td>11.0</td>\n",
              "    </tr>\n",
              "    <tr>\n",
              "      <th>27</th>\n",
              "      <td>1975</td>\n",
              "      <td>9.1</td>\n",
              "    </tr>\n",
              "    <tr>\n",
              "      <th>28</th>\n",
              "      <td>1976</td>\n",
              "      <td>5.8</td>\n",
              "    </tr>\n",
              "    <tr>\n",
              "      <th>29</th>\n",
              "      <td>1977</td>\n",
              "      <td>6.5</td>\n",
              "    </tr>\n",
              "    <tr>\n",
              "      <th>30</th>\n",
              "      <td>1978</td>\n",
              "      <td>7.6</td>\n",
              "    </tr>\n",
              "    <tr>\n",
              "      <th>31</th>\n",
              "      <td>1979</td>\n",
              "      <td>11.3</td>\n",
              "    </tr>\n",
              "    <tr>\n",
              "      <th>32</th>\n",
              "      <td>1980</td>\n",
              "      <td>13.5</td>\n",
              "    </tr>\n",
              "    <tr>\n",
              "      <th>33</th>\n",
              "      <td>1981</td>\n",
              "      <td>10.3</td>\n",
              "    </tr>\n",
              "    <tr>\n",
              "      <th>34</th>\n",
              "      <td>1982</td>\n",
              "      <td>6.2</td>\n",
              "    </tr>\n",
              "    <tr>\n",
              "      <th>35</th>\n",
              "      <td>1983</td>\n",
              "      <td>3.2</td>\n",
              "    </tr>\n",
              "    <tr>\n",
              "      <th>36</th>\n",
              "      <td>1984</td>\n",
              "      <td>4.3</td>\n",
              "    </tr>\n",
              "    <tr>\n",
              "      <th>37</th>\n",
              "      <td>1985</td>\n",
              "      <td>3.6</td>\n",
              "    </tr>\n",
              "    <tr>\n",
              "      <th>38</th>\n",
              "      <td>1986</td>\n",
              "      <td>1.9</td>\n",
              "    </tr>\n",
              "    <tr>\n",
              "      <th>39</th>\n",
              "      <td>1987</td>\n",
              "      <td>3.6</td>\n",
              "    </tr>\n",
              "    <tr>\n",
              "      <th>40</th>\n",
              "      <td>1988</td>\n",
              "      <td>4.1</td>\n",
              "    </tr>\n",
              "    <tr>\n",
              "      <th>41</th>\n",
              "      <td>1989</td>\n",
              "      <td>4.8</td>\n",
              "    </tr>\n",
              "    <tr>\n",
              "      <th>42</th>\n",
              "      <td>1990</td>\n",
              "      <td>5.4</td>\n",
              "    </tr>\n",
              "    <tr>\n",
              "      <th>43</th>\n",
              "      <td>1991</td>\n",
              "      <td>4.2</td>\n",
              "    </tr>\n",
              "    <tr>\n",
              "      <th>44</th>\n",
              "      <td>1992</td>\n",
              "      <td>3.0</td>\n",
              "    </tr>\n",
              "    <tr>\n",
              "      <th>45</th>\n",
              "      <td>1993</td>\n",
              "      <td>3.0</td>\n",
              "    </tr>\n",
              "    <tr>\n",
              "      <th>46</th>\n",
              "      <td>1994</td>\n",
              "      <td>2.6</td>\n",
              "    </tr>\n",
              "    <tr>\n",
              "      <th>47</th>\n",
              "      <td>1995</td>\n",
              "      <td>2.8</td>\n",
              "    </tr>\n",
              "    <tr>\n",
              "      <th>48</th>\n",
              "      <td>1996</td>\n",
              "      <td>3.0</td>\n",
              "    </tr>\n",
              "  </tbody>\n",
              "</table>\n",
              "</div>"
            ],
            "text/plain": [
              "    year   inf\n",
              "0   1948   8.1\n",
              "1   1949  -1.2\n",
              "2   1950   1.3\n",
              "3   1951   7.9\n",
              "4   1952   1.9\n",
              "5   1953   0.8\n",
              "6   1954   0.7\n",
              "7   1955  -0.4\n",
              "8   1956   1.5\n",
              "9   1957   3.3\n",
              "10  1958   2.8\n",
              "11  1959   0.7\n",
              "12  1960   1.7\n",
              "13  1961   1.0\n",
              "14  1962   1.0\n",
              "15  1963   1.3\n",
              "16  1964   1.3\n",
              "17  1965   1.6\n",
              "18  1966   2.9\n",
              "19  1967   3.1\n",
              "20  1968   4.2\n",
              "21  1969   5.5\n",
              "22  1970   5.7\n",
              "23  1971   4.4\n",
              "24  1972   3.2\n",
              "25  1973   6.2\n",
              "26  1974  11.0\n",
              "27  1975   9.1\n",
              "28  1976   5.8\n",
              "29  1977   6.5\n",
              "30  1978   7.6\n",
              "31  1979  11.3\n",
              "32  1980  13.5\n",
              "33  1981  10.3\n",
              "34  1982   6.2\n",
              "35  1983   3.2\n",
              "36  1984   4.3\n",
              "37  1985   3.6\n",
              "38  1986   1.9\n",
              "39  1987   3.6\n",
              "40  1988   4.1\n",
              "41  1989   4.8\n",
              "42  1990   5.4\n",
              "43  1991   4.2\n",
              "44  1992   3.0\n",
              "45  1993   3.0\n",
              "46  1994   2.6\n",
              "47  1995   2.8\n",
              "48  1996   3.0"
            ]
          },
          "metadata": {},
          "execution_count": 33
        }
      ]
    },
    {
      "cell_type": "code",
      "metadata": {
        "colab": {
          "base_uri": "https://localhost:8080/",
          "height": 204
        },
        "id": "PqzZqPWEUuoA",
        "outputId": "90926ad3-6972-46e4-8b05-8aa73730934f"
      },
      "source": [
        "df_inf.head(5)"
      ],
      "execution_count": 23,
      "outputs": [
        {
          "output_type": "execute_result",
          "data": {
            "text/html": [
              "<div>\n",
              "<style scoped>\n",
              "    .dataframe tbody tr th:only-of-type {\n",
              "        vertical-align: middle;\n",
              "    }\n",
              "\n",
              "    .dataframe tbody tr th {\n",
              "        vertical-align: top;\n",
              "    }\n",
              "\n",
              "    .dataframe thead th {\n",
              "        text-align: right;\n",
              "    }\n",
              "</style>\n",
              "<table border=\"1\" class=\"dataframe\">\n",
              "  <thead>\n",
              "    <tr style=\"text-align: right;\">\n",
              "      <th></th>\n",
              "      <th>year</th>\n",
              "      <th>inf</th>\n",
              "    </tr>\n",
              "  </thead>\n",
              "  <tbody>\n",
              "    <tr>\n",
              "      <th>0</th>\n",
              "      <td>1948</td>\n",
              "      <td>8.1</td>\n",
              "    </tr>\n",
              "    <tr>\n",
              "      <th>1</th>\n",
              "      <td>1949</td>\n",
              "      <td>-1.2</td>\n",
              "    </tr>\n",
              "    <tr>\n",
              "      <th>2</th>\n",
              "      <td>1950</td>\n",
              "      <td>1.3</td>\n",
              "    </tr>\n",
              "    <tr>\n",
              "      <th>3</th>\n",
              "      <td>1951</td>\n",
              "      <td>7.9</td>\n",
              "    </tr>\n",
              "    <tr>\n",
              "      <th>4</th>\n",
              "      <td>1952</td>\n",
              "      <td>1.9</td>\n",
              "    </tr>\n",
              "  </tbody>\n",
              "</table>\n",
              "</div>"
            ],
            "text/plain": [
              "   year  inf\n",
              "0  1948  8.1\n",
              "1  1949 -1.2\n",
              "2  1950  1.3\n",
              "3  1951  7.9\n",
              "4  1952  1.9"
            ]
          },
          "metadata": {},
          "execution_count": 23
        }
      ]
    },
    {
      "cell_type": "markdown",
      "metadata": {
        "id": "XeRe1X7zYgU6"
      },
      "source": [
        "# Tendencia"
      ]
    },
    {
      "cell_type": "code",
      "metadata": {
        "colab": {
          "base_uri": "https://localhost:8080/"
        },
        "id": "EKSyzk4vYhSq",
        "outputId": "b02cd56e-bb20-47b5-b9c5-7dd29e5b9d9d"
      },
      "source": [
        "n = len(df_inf)\n",
        "x = np.array(df_inf['year'])\n",
        "y = np.array(df_inf['inf'])\n",
        "sumx = sum(x)\n",
        "sumy = sum(y)\n",
        "sumx2 = sum(x*x)\n",
        "sumy2 = sum(y*y)\n",
        "sumxy = sum(x*y)\n",
        "promx = np.average(x)\n",
        "promy = np.average(y)\n",
        "m = (sumx*sumy-n*sumxy)/(sumx**2-n*sumx2)\n",
        "b = promy-m*promx\n",
        "m,b"
      ],
      "execution_count": 43,
      "outputs": [
        {
          "output_type": "execute_result",
          "data": {
            "text/plain": [
              "(0.0668163265306262, -127.65363265308876)"
            ]
          },
          "metadata": {},
          "execution_count": 43
        }
      ]
    },
    {
      "cell_type": "code",
      "metadata": {
        "id": "u-YOa45ScKPM"
      },
      "source": [
        "df_inf['trend_inf'] = m*x+b"
      ],
      "execution_count": 47,
      "outputs": []
    },
    {
      "cell_type": "code",
      "metadata": {
        "colab": {
          "base_uri": "https://localhost:8080/",
          "height": 204
        },
        "id": "siAMllRmcVND",
        "outputId": "022e0800-1c7f-4b6e-baa3-6cbf86a6f79d"
      },
      "source": [
        "df_inf.head(5)"
      ],
      "execution_count": 48,
      "outputs": [
        {
          "output_type": "execute_result",
          "data": {
            "text/html": [
              "<div>\n",
              "<style scoped>\n",
              "    .dataframe tbody tr th:only-of-type {\n",
              "        vertical-align: middle;\n",
              "    }\n",
              "\n",
              "    .dataframe tbody tr th {\n",
              "        vertical-align: top;\n",
              "    }\n",
              "\n",
              "    .dataframe thead th {\n",
              "        text-align: right;\n",
              "    }\n",
              "</style>\n",
              "<table border=\"1\" class=\"dataframe\">\n",
              "  <thead>\n",
              "    <tr style=\"text-align: right;\">\n",
              "      <th></th>\n",
              "      <th>year</th>\n",
              "      <th>inf</th>\n",
              "      <th>trend_inf</th>\n",
              "    </tr>\n",
              "  </thead>\n",
              "  <tbody>\n",
              "    <tr>\n",
              "      <th>0</th>\n",
              "      <td>1948</td>\n",
              "      <td>8.1</td>\n",
              "      <td>2.504571</td>\n",
              "    </tr>\n",
              "    <tr>\n",
              "      <th>1</th>\n",
              "      <td>1949</td>\n",
              "      <td>-1.2</td>\n",
              "      <td>2.571388</td>\n",
              "    </tr>\n",
              "    <tr>\n",
              "      <th>2</th>\n",
              "      <td>1950</td>\n",
              "      <td>1.3</td>\n",
              "      <td>2.638204</td>\n",
              "    </tr>\n",
              "    <tr>\n",
              "      <th>3</th>\n",
              "      <td>1951</td>\n",
              "      <td>7.9</td>\n",
              "      <td>2.705020</td>\n",
              "    </tr>\n",
              "    <tr>\n",
              "      <th>4</th>\n",
              "      <td>1952</td>\n",
              "      <td>1.9</td>\n",
              "      <td>2.771837</td>\n",
              "    </tr>\n",
              "  </tbody>\n",
              "</table>\n",
              "</div>"
            ],
            "text/plain": [
              "   year  inf  trend_inf\n",
              "0  1948  8.1   2.504571\n",
              "1  1949 -1.2   2.571388\n",
              "2  1950  1.3   2.638204\n",
              "3  1951  7.9   2.705020\n",
              "4  1952  1.9   2.771837"
            ]
          },
          "metadata": {},
          "execution_count": 48
        }
      ]
    },
    {
      "cell_type": "markdown",
      "metadata": {
        "id": "qwQioNfzXW6_"
      },
      "source": [
        "# Gráficar"
      ]
    },
    {
      "cell_type": "code",
      "metadata": {
        "colab": {
          "base_uri": "https://localhost:8080/",
          "height": 295
        },
        "id": "rg0RiGX4XYQw",
        "outputId": "10246d25-88db-4906-b57d-0e748a61a527"
      },
      "source": [
        "plt.plot(x,y, label='Datos')\n",
        "plt.plot(x,m*x+b,label='Ajuste')\n",
        "plt.xlabel('años')\n",
        "plt.ylabel('inf')\n",
        "plt.title('Regresión Lineal')\n",
        "plt.grid()\n",
        "plt.legend(loc=1)\n",
        "plt.show()"
      ],
      "execution_count": 52,
      "outputs": [
        {
          "output_type": "display_data",
          "data": {
            "image/png": "[encoded data removed]",
            "text/plain": [
              "<Figure size 432x288 with 1 Axes>"
            ]
          },
          "metadata": {
            "needs_background": "light"
          }
        }
      ]
    },
    {
      "cell_type": "markdown",
      "metadata": {
        "id": "Z0yqAQ45dVLp"
      },
      "source": [
        "# Regresión Lineal"
      ]
    },
    {
      "cell_type": "code",
      "metadata": {
        "id": "84vm-Ed6fYXc"
      },
      "source": [
        "year = df_inf['year'].values.reshape(-1,1)\n",
        "inf = df_inf['inf'].values.reshape(-1,1)\n",
        "trend_inf = df_inf['trend_inf'].values.reshape(-1,1)"
      ],
      "execution_count": 61,
      "outputs": []
    },
    {
      "cell_type": "markdown",
      "metadata": {
        "id": "g3h8diQFdW3Y"
      },
      "source": [
        "## Años (x) vs Inflación (y)"
      ]
    },
    {
      "cell_type": "code",
      "metadata": {
        "colab": {
          "base_uri": "https://localhost:8080/"
        },
        "id": "jFBR4Mh2daws",
        "outputId": "97ecdddb-537d-4bd2-e33b-d00e98ca12cf"
      },
      "source": [
        "model = LinearRegression()\n",
        "model.fit(year,inf)\n",
        "model.intercept_, model.coef_"
      ],
      "execution_count": 77,
      "outputs": [
        {
          "output_type": "execute_result",
          "data": {
            "text/plain": [
              "(array([-127.65363265]), array([[0.06681633]]))"
            ]
          },
          "metadata": {},
          "execution_count": 77
        }
      ]
    },
    {
      "cell_type": "code",
      "metadata": {
        "colab": {
          "base_uri": "https://localhost:8080/"
        },
        "id": "d9MDl6YEkeAg",
        "outputId": "b8dc591d-a511-4bb2-959c-802427ff5412"
      },
      "source": [
        "year = sm.add_constant(year,prepend=True)\n",
        "model_ = sm.OLS(inf,year)\n",
        "model_ = model_.fit()\n",
        "print(model_.summary())"
      ],
      "execution_count": 80,
      "outputs": [
        {
          "output_type": "stream",
          "name": "stdout",
          "text": [
            "                            OLS Regression Results                            \n",
            "==============================================================================\n",
            "Dep. Variable:                      y   R-squared:                       0.090\n",
            "Model:                            OLS   Adj. R-squared:                  0.071\n",
            "Method:                 Least Squares   F-statistic:                     4.647\n",
            "Date:                Fri, 08 Oct 2021   Prob (F-statistic):             0.0363\n",
            "Time:                        15:48:27   Log-Likelihood:                -123.44\n",
            "No. Observations:                  49   AIC:                             250.9\n",
            "Df Residuals:                      47   BIC:                             254.7\n",
            "Df Model:                           1                                         \n",
            "Covariance Type:            nonrobust                                         \n",
            "==============================================================================\n",
            "                 coef    std err          t      P>|t|      [0.025      0.975]\n",
            "------------------------------------------------------------------------------\n",
            "const       -127.6536     61.125     -2.088      0.042    -250.620      -4.687\n",
            "x1             0.0668      0.031      2.156      0.036       0.004       0.129\n",
            "==============================================================================\n",
            "Omnibus:                       12.497   Durbin-Watson:                   0.703\n",
            "Prob(Omnibus):                  0.002   Jarque-Bera (JB):               13.081\n",
            "Skew:                           1.223   Prob(JB):                      0.00144\n",
            "Kurtosis:                       3.655   Cond. No.                     2.75e+05\n",
            "==============================================================================\n",
            "\n",
            "Warnings:\n",
            "[1] Standard Errors assume that the covariance matrix of the errors is correctly specified.\n",
            "[2] The condition number is large, 2.75e+05. This might indicate that there are\n",
            "strong multicollinearity or other numerical problems.\n"
          ]
        }
      ]
    },
    {
      "cell_type": "markdown",
      "metadata": {
        "id": "vkCSymgZWb8z"
      },
      "source": [
        "# Determinar el tipo de modelo, Estacionario o no."
      ]
    },
    {
      "cell_type": "code",
      "metadata": {
        "id": "0wqahsgrWbcf"
      },
      "source": [
        "from statsmodels.tsa.stattools import adfuller\n",
        "def test_stationarity(timeseries):\n",
        "\n",
        "#Estadísticas de la determinación del balanceo (Media móvil y Desviación Estándar)\n",
        "    rolmean = pd.rolling_mean(timeseries,window=12)\n",
        "    rolstd = pd.rolling_std(timeseries,window=12)\n",
        "#Graficar las estadísticas del balanceo\n",
        "    orig = plt.plot(timeseries,color='blue',label='Original')\n",
        "    mean = plt.plot(rolmean,color='red',label='Media Móvil')\n",
        "    std = plt.plot(rolstd,color='black',label='Desviación Estándar')\n",
        "    plt.legend(loc='best')\n",
        "    plt.title('Media Móvil y Desviación Estándar')\n",
        "    plt.show(block=False)\n",
        "    test_stationarity(df_inf['inf'])"
      ],
      "execution_count": 83,
      "outputs": []
    },
    {
      "cell_type": "code",
      "metadata": {
        "colab": {
          "base_uri": "https://localhost:8080/",
          "height": 299
        },
        "id": "y4j6Z5pDkSXH",
        "outputId": "54d2a0c5-4536-47d4-e7fe-e617a7212203"
      },
      "source": [
        "# Cálculo de la media móvil\n",
        "moving_avg = pd.Series(df_inf['inf']).rolling(window=12).mean()\n",
        "df_inf['inf'].plot()\n",
        "#Gráfica de la media móvil\n",
        "moving_avg.plot(label='Media Móvil',color='red')\n",
        "plt.title('Media Móvil')\n",
        "plt.legend(loc='best')"
      ],
      "execution_count": 95,
      "outputs": [
        {
          "output_type": "execute_result",
          "data": {
            "text/plain": [
              "<matplotlib.legend.Legend at 0x7f217bbd36d0>"
            ]
          },
          "metadata": {},
          "execution_count": 95
        },
        {
          "output_type": "display_data",
          "data": {
            "image/png": "[encoded data removed]",
            "text/plain": [
              "<Figure size 432x288 with 1 Axes>"
            ]
          },
          "metadata": {
            "needs_background": "light"
          }
        }
      ]
    },
    {
      "cell_type": "code",
      "metadata": {
        "colab": {
          "base_uri": "https://localhost:8080/",
          "height": 299
        },
        "id": "bSRfHu3_ejZ9",
        "outputId": "d7fce79f-1102-4463-be85-996273038c2d"
      },
      "source": [
        "#Cálculo de la varianza\n",
        "variaciones_anual = df_inf['inf']/df_inf['inf'].shift(1)-1\n",
        "df_inf['variacion_anual']=variaciones_anual\n",
        "df_inf['variacion_anual'][:5]\n",
        "#Gráfica de la varianza\n",
        "plot = df_inf['variacion_anual'].plot()\n",
        "plt.title('Variación anual')"
      ],
      "execution_count": 96,
      "outputs": [
        {
          "output_type": "execute_result",
          "data": {
            "text/plain": [
              "Text(0.5, 1.0, 'Variación anual')"
            ]
          },
          "metadata": {},
          "execution_count": 96
        },
        {
          "output_type": "display_data",
          "data": {
            "image/png": "[encoded data removed]",
            "text/plain": [
              "<Figure size 432x288 with 1 Axes>"
            ]
          },
          "metadata": {
            "needs_background": "light"
          }
        }
      ]
    },
    {
      "cell_type": "code",
      "metadata": {
        "colab": {
          "base_uri": "https://localhost:8080/",
          "height": 297
        },
        "id": "SY1Law5Qf3tr",
        "outputId": "e10d10e8-9746-4614-fe84-6c4e26909478"
      },
      "source": [
        "#Cálculo de la línea de tendencia sobre los datos\n",
        "#Gráfica de tendencia aplicando el filtro Hodrick-Prescott\n",
        "ciclo, tend = sm.tsa.filters.hpfilter(df_inf['inf']) #aplica el filtro\n",
        "df_inf['Tendencia']=tend\n",
        "df_inf[['inf','Tendencia']].plot(fontsize=12); #Gráfica de la tendencia\n",
        "plt.title('Tendencia')\n",
        "legend = plt.legend()\n",
        "legend.prop.set_size(14)\n",
        "\n",
        "#Descomposición de los componentes de la serie de tiempo\n",
        "descomposicion = sm.tsa.seasonal_decompose(df_inf['inf'],freq=30)\n",
        "\n",
        "trend = descomposicion.trend\n",
        "seasonal = descomposicion.seasonal\n",
        "residual = descomposicion.resid\n",
        "\n",
        "plt.subplot(411)\n",
        "plt.plot(df_inf['inf'],label='Original')\n",
        "plt.title('Línea original')\n",
        "plt.legend(loc='best')\n",
        "plt.subplot(412)\n",
        "plt.plot(trend,label='Fluctuaciones')\n",
        "plt.title('Fluctuaciones')\n",
        "plt.legend(loc='best')\n",
        "plt.subplot(413)\n",
        "plt.plot(seasonal,label='Variaciones Estacionales')\n",
        "plt.title('Variaciones Estacionales')\n",
        "plt.legend(loc='best')\n",
        "plt.subplot(414)\n",
        "plt.plot(residual,label='Variaciones Irregulares')\n",
        "plt.title('Variaciones Irregulares')\n",
        "plt.legend(loc='best')\n",
        "plt.tight_layout()"
      ],
      "execution_count": 101,
      "outputs": [
        {
          "output_type": "display_data",
          "data": {
            "image/png": "[encoded data removed]",
            "text/plain": [
              "<Figure size 432x288 with 4 Axes>"
            ]
          },
          "metadata": {
            "needs_background": "light"
          }
        }
      ]
    },
    {
      "cell_type": "markdown",
      "metadata": {
        "id": "MmynkA4qj6sG"
      },
      "source": [
        "#ARIMA sobre los datos"
      ]
    },
    {
      "cell_type": "code",
      "metadata": {
        "colab": {
          "base_uri": "https://localhost:8080/",
          "height": 498
        },
        "id": "cKbAuDVxj5qH",
        "outputId": "017d04f3-8744-479b-facd-2cd1543c7bfd"
      },
      "source": [
        "modelo = sm.tsa.ARIMA(df_inf['variacion_anual'].iloc[1:],order =(1,0,1))\n",
        "resultados = modelo.fit(disp=-1)\n",
        "df_inf['pronostico']=resultados.fittedvalues\n",
        "plot = df_inf[['variacion_anual','pronostico']].plot(figsize=(12,5))"
      ],
      "execution_count": 103,
      "outputs": [
        {
          "output_type": "stream",
          "name": "stderr",
          "text": [
            "/usr/local/lib/python3.7/dist-packages/statsmodels/tsa/kalmanf/kalmanfilter.py:221: RuntimeWarning: divide by zero encountered in true_divide\n",
            "  Z_mat, R_mat, T_mat)\n",
            "/usr/local/lib/python3.7/dist-packages/statsmodels/tsa/tsatools.py:668: RuntimeWarning: overflow encountered in exp\n",
            "  newparams = ((1-np.exp(-params))/(1+np.exp(-params))).copy()\n",
            "/usr/local/lib/python3.7/dist-packages/statsmodels/tsa/tsatools.py:668: RuntimeWarning: invalid value encountered in true_divide\n",
            "  newparams = ((1-np.exp(-params))/(1+np.exp(-params))).copy()\n",
            "/usr/local/lib/python3.7/dist-packages/statsmodels/tsa/tsatools.py:669: RuntimeWarning: overflow encountered in exp\n",
            "  tmp = ((1-np.exp(-params))/(1+np.exp(-params))).copy()\n",
            "/usr/local/lib/python3.7/dist-packages/statsmodels/tsa/tsatools.py:669: RuntimeWarning: invalid value encountered in true_divide\n",
            "  tmp = ((1-np.exp(-params))/(1+np.exp(-params))).copy()\n"
          ]
        },
        {
          "output_type": "display_data",
          "data": {
            "image/png": "[encoded data removed]",
            "text/plain": [
              "<Figure size 864x360 with 1 Axes>"
            ]
          },
          "metadata": {
            "needs_background": "light"
          }
        }
      ]
    },
    {
      "cell_type": "markdown",
      "metadata": {
        "id": "L3gpB3GFkvFQ"
      },
      "source": [
        "fuente: https://www.youtube.com/watch?v=NeRjp3GIJgA&ab_channel=TICUTMACH"
      ]
    }
  ]
}